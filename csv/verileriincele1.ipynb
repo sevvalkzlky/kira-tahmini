{
 "cells": [
  {
   "cell_type": "code",
   "execution_count": null,
   "id": "0cb9c5a0",
   "metadata": {},
   "outputs": [],
   "source": [
    "import numpy as np\n",
    "import pandas as pd\n",
    "import matplotlib.pyplot as plt"
   ]
  },
  {
   "cell_type": "code",
   "execution_count": 14,
   "id": "7f05be5b",
   "metadata": {},
   "outputs": [],
   "source": [
    "df = pd.read_csv(r'C:\\Users\\sevva\\Documents\\GitHub\\kira-tahmini\\csv\\data.csv')\n"
   ]
  },
  {
   "cell_type": "code",
   "execution_count": 15,
   "id": "1f569dfa",
   "metadata": {},
   "outputs": [
    {
     "name": "stdout",
     "output_type": "stream",
     "text": [
      "<bound method DataFrame.info of      photo-count  list-view-price list-view-date           left  \\\n",
      "0             12            13250     25-03-2024  Kiralık Daire   \n",
      "1             14            19000     27-03-2024  Kiralık Daire   \n",
      "2             10             5500     08-04-2024  Kiralık Daire   \n",
      "3             21            11000     06-04-2024  Kiralık Daire   \n",
      "4              9            10000     28-03-2024  Kiralık Daire   \n",
      "..           ...              ...            ...            ...   \n",
      "931           36            50000     27-01-2024  Kiralık Villa   \n",
      "932           46            20000     07-03-2024  Kiralık Daire   \n",
      "933           17            17000     11-03-2024  Kiralık Daire   \n",
      "934           39            15000     08-04-2024  Kiralık Daire   \n",
      "935           49            30000     01-03-2024  Kiralık Daire   \n",
      "\n",
      "                             celly celly 2                           celly 3  \\\n",
      "0     3 +                        1  140 m²  15                       Yaşında   \n",
      "1     3 +                        1  110 m²  25                       Yaşında   \n",
      "2    1 +                        15   30 m²  30                       Yaşında   \n",
      "3     2 +                        1  110 m²  20                       Yaşında   \n",
      "4     1 +                        1   60 m²                         0 Yaşında   \n",
      "..                             ...     ...                               ...   \n",
      "931   3 +                        1  150 m²                         0 Yaşında   \n",
      "932   2 +                        1   96 m²  40                       Yaşında   \n",
      "933   2 +                        1  120 m²   7                       Yaşında   \n",
      "934   2 +                        1   85 m²   5                       Yaşında   \n",
      "935   1 +                        1   72 m²   1                       Yaşında   \n",
      "\n",
      "    celly 4                                   list-view-header  \\\n",
      "0    3. Kat                   Kiralık Cadde Üzeri Arakat Daire   \n",
      "1    3. Kat  Fırsat Alsancak Pazar Sokağında Tadilatlı 3+1 ...   \n",
      "2    1. Kat     İzmir Selçuk 14 Mayıs Mahallesinde Kiralık Oda   \n",
      "3    3. Kat    Atıcı Group’dan 100 M2 Kiralık Daire Karabağlar   \n",
      "4    2. Kat                      Loca Yapıda 1+1 Kiralık Daire   \n",
      "..      ...                                                ...   \n",
      "931  2. Kat  Can Emlak Tan Kiralık Full Eşyalı Havuzlu Site...   \n",
      "932  3. Kat  Deniz Manzaralı Ful Eşyalı Demokrasi Ünüversit...   \n",
      "933  2. Kat  Türker Gayrimenkulden Menderes'de Cadde Üsdü E...   \n",
      "934  0. Kat  Can Emlak'tan Gümüldür Sahilde, Yaz Kış Eşyalı...   \n",
      "935  0. Kat  Çeşmede Full Deniz Manzaralı Eşyalı Kiralık Sı...   \n",
      "\n",
      "                            list-view-location  ...  \\\n",
      "0                      Tire, 4 Eylül Mahallesi  ...   \n",
      "1                    Konak, Alsancak Mahallesi  ...   \n",
      "2                   Selçuk, 14 Mayıs Mahallesi  ...   \n",
      "3                  Karabağlar, Peker Mahallesi  ...   \n",
      "4                Torbalı, Yedi Eylül Mahallesi  ...   \n",
      "..                                         ...  ...   \n",
      "931  Menderes, Gümüldür Fevzi Çakmak Mahallesi  ...   \n",
      "932            Karabağlar, Üçkuyular Mahallesi  ...   \n",
      "933                  Menderes, Küner Mahallesi  ...   \n",
      "934  Menderes, Gümüldür Fevzi Çakmak Mahallesi  ...   \n",
      "935               Çeşme, İsmet İnönü Mahallesi  ...   \n",
      "\n",
      "                                   he-lazy-image src 2   city    district  \\\n",
      "0                                                  NaN  izmir        tire   \n",
      "1                                                  NaN  izmir       konak   \n",
      "2                                                  NaN  izmir      selcuk   \n",
      "3    https://hecdnnw.hemlak.com/mncropresize/91/68/...  izmir  karabaglar   \n",
      "4                                                  NaN  izmir     torbali   \n",
      "..                                                 ...    ...         ...   \n",
      "931  https://hecdnnw.hemlak.com/mncropresize/91/68/...  izmir    menderes   \n",
      "932  https://hecdnnw.hemlak.com/mncropresize/91/68/...  izmir  karabaglar   \n",
      "933  https://hecdnnw.hemlak.com/mncropresize/91/68/...  izmir    menderes   \n",
      "934                                                NaN  izmir    menderes   \n",
      "935                                                NaN  izmir       cesme   \n",
      "\n",
      "              neighborhood room living_room  area  age  floor  price  \n",
      "0                  4_eylul    3           1   140   15      3  13250  \n",
      "1                 alsancak    3           1   110   25      3  19000  \n",
      "2                 14_mayis    1          15    30   30      1   5500  \n",
      "3                    peker    2           1   110   20      3  11000  \n",
      "4               yedi_eylul    1           1    60    0      2  10000  \n",
      "..                     ...  ...         ...   ...  ...    ...    ...  \n",
      "931  gumuldur_fevzi_cakmak    3           1   150    0      2  50000  \n",
      "932              uckuyular    2           1    96   40      3  20000  \n",
      "933                  kuner    2           1   120    7      2  17000  \n",
      "934  gumuldur_fevzi_cakmak    2           1    85    5      0  15000  \n",
      "935            ismet_inonu    1           1    72    1      0  30000  \n",
      "\n",
      "[936 rows x 22 columns]>\n"
     ]
    }
   ],
   "source": [
    "print(df.info)"
   ]
  },
  {
   "cell_type": "code",
   "execution_count": 16,
   "id": "1acbac13",
   "metadata": {},
   "outputs": [],
   "source": [
    "df['city'] = df['city'].astype('category')\n",
    "df['district'] = df['district'].astype('category')\n",
    "df['neighborhood'] = df['neighborhood'].astype('category')\n",
    "df['room'] = df['room'].astype('int')\n",
    "df['living_room'] = df['living_room'].astype('int')\n",
    "df['area'] = df['area'].astype('int')\n",
    "df['age'] = df['age'].astype('int')\n",
    "df['floor'] = df['floor'].astype('int')\n",
    "df['price'] = df['price'].astype('int')"
   ]
  },
  {
   "cell_type": "code",
   "execution_count": 17,
   "id": "4df8969c",
   "metadata": {},
   "outputs": [
    {
     "name": "stdout",
     "output_type": "stream",
     "text": [
      "<class 'pandas.core.frame.DataFrame'>\n",
      "RangeIndex: 936 entries, 0 to 935\n",
      "Data columns (total 22 columns):\n",
      " #   Column               Non-Null Count  Dtype   \n",
      "---  ------               --------------  -----   \n",
      " 0   photo-count          936 non-null    int64   \n",
      " 1   list-view-price      936 non-null    int64   \n",
      " 2   list-view-date       936 non-null    object  \n",
      " 3   left                 936 non-null    object  \n",
      " 4   celly                936 non-null    object  \n",
      " 5   celly 2              936 non-null    object  \n",
      " 6   celly 3              936 non-null    object  \n",
      " 7   celly 4              936 non-null    object  \n",
      " 8   list-view-header     936 non-null    object  \n",
      " 9   list-view-location   936 non-null    object  \n",
      " 10  img-wrp href         426 non-null    object  \n",
      " 11  he-lazy-image src    868 non-null    object  \n",
      " 12  he-lazy-image src 2  379 non-null    object  \n",
      " 13  city                 936 non-null    category\n",
      " 14  district             936 non-null    category\n",
      " 15  neighborhood         936 non-null    category\n",
      " 16  room                 936 non-null    int32   \n",
      " 17  living_room          936 non-null    int32   \n",
      " 18  area                 936 non-null    int32   \n",
      " 19  age                  936 non-null    int32   \n",
      " 20  floor                936 non-null    int32   \n",
      " 21  price                936 non-null    int32   \n",
      "dtypes: category(3), int32(6), int64(2), object(11)\n",
      "memory usage: 132.3+ KB\n",
      "None\n"
     ]
    }
   ],
   "source": [
    "print(df.info())"
   ]
  },
  {
   "cell_type": "code",
   "execution_count": 18,
   "id": "2315c8a5",
   "metadata": {},
   "outputs": [
    {
     "name": "stdout",
     "output_type": "stream",
     "text": [
      "Column: photo-count, min: -11.5, max: 56.5\n",
      "Column: list-view-price, min: -8437.5, max: 50062.5\n",
      "Column: room, min: 0.5, max: 4.5\n",
      "Column: living_room, min: 1.0, max: 1.0\n",
      "Column: area, min: 1.0, max: 225.0\n",
      "Column: age, min: -27.5, max: 56.5\n",
      "Column: floor, min: -2.0, max: 6.0\n",
      "Column: price, min: -8437.5, max: 50062.5\n"
     ]
    }
   ],
   "source": [
    "columns = df.select_dtypes(include=[np.number]).columns\n",
    "min_values = []\n",
    "max_values = []\n",
    "for column in columns:\n",
    "    Q1 = df[column].quantile(0.25)\n",
    "    Q3 = df[column].quantile(0.75)\n",
    "    IQR = Q3 - Q1\n",
    "    min_value = Q1 - 1.5 * IQR\n",
    "    max_value = Q3 + 1.5 * IQR\n",
    "    min_values.append(min_value)\n",
    "    max_values.append(max_value)\n",
    "    print(f\"Column: {column}, min: {min_value}, max: {max_value}\")"
   ]
  },
  {
   "cell_type": "code",
   "execution_count": 19,
   "id": "6a068a26",
   "metadata": {},
   "outputs": [],
   "source": [
    "for i, column in enumerate(columns):\n",
    "    df = df[(df[column] >= min_values[i]) & (df[column] <= max_values[i])]"
   ]
  },
  {
   "cell_type": "code",
   "execution_count": 20,
   "id": "07c78f23",
   "metadata": {},
   "outputs": [
    {
     "name": "stdout",
     "output_type": "stream",
     "text": [
      "<class 'pandas.core.frame.DataFrame'>\n",
      "Index: 700 entries, 0 to 935\n",
      "Data columns (total 22 columns):\n",
      " #   Column               Non-Null Count  Dtype   \n",
      "---  ------               --------------  -----   \n",
      " 0   photo-count          700 non-null    int64   \n",
      " 1   list-view-price      700 non-null    int64   \n",
      " 2   list-view-date       700 non-null    object  \n",
      " 3   left                 700 non-null    object  \n",
      " 4   celly                700 non-null    object  \n",
      " 5   celly 2              700 non-null    object  \n",
      " 6   celly 3              700 non-null    object  \n",
      " 7   celly 4              700 non-null    object  \n",
      " 8   list-view-header     700 non-null    object  \n",
      " 9   list-view-location   700 non-null    object  \n",
      " 10  img-wrp href         284 non-null    object  \n",
      " 11  he-lazy-image src    643 non-null    object  \n",
      " 12  he-lazy-image src 2  254 non-null    object  \n",
      " 13  city                 700 non-null    category\n",
      " 14  district             700 non-null    category\n",
      " 15  neighborhood         700 non-null    category\n",
      " 16  room                 700 non-null    int32   \n",
      " 17  living_room          700 non-null    int32   \n",
      " 18  area                 700 non-null    int32   \n",
      " 19  age                  700 non-null    int32   \n",
      " 20  floor                700 non-null    int32   \n",
      " 21  price                700 non-null    int32   \n",
      "dtypes: category(3), int32(6), int64(2), object(11)\n",
      "memory usage: 107.2+ KB\n",
      "None\n"
     ]
    }
   ],
   "source": [
    "print(df.info())"
   ]
  },
  {
   "cell_type": "code",
   "execution_count": 21,
   "id": "f3a3672a",
   "metadata": {},
   "outputs": [
    {
     "name": "stdout",
     "output_type": "stream",
     "text": [
      "       photo-count  list-view-price        room  living_room        area  \\\n",
      "count   700.000000       700.000000  700.000000        700.0  700.000000   \n",
      "mean     21.588571     17775.187143    2.247143          1.0  105.522857   \n",
      "std      10.007687      7958.430631    0.799002          0.0   35.865801   \n",
      "min       1.000000        23.000000    1.000000          1.0   25.000000   \n",
      "25%      14.000000     13000.000000    2.000000          1.0   80.000000   \n",
      "50%      20.000000     16000.000000    2.000000          1.0  100.000000   \n",
      "75%      28.250000     20000.000000    3.000000          1.0  130.000000   \n",
      "max      55.000000     50000.000000    4.000000          1.0  220.000000   \n",
      "\n",
      "              age       floor         price  \n",
      "count  700.000000  700.000000    700.000000  \n",
      "mean    15.538571    2.290000  17775.187143  \n",
      "std     12.019771    1.645269   7958.430631  \n",
      "min      0.000000   -2.000000     23.000000  \n",
      "25%      4.000000    1.000000  13000.000000  \n",
      "50%     15.000000    2.000000  16000.000000  \n",
      "75%     25.000000    3.000000  20000.000000  \n",
      "max     50.000000    6.000000  50000.000000  \n"
     ]
    }
   ],
   "source": [
    "print(df.describe())"
   ]
  },
  {
   "cell_type": "code",
   "execution_count": 22,
   "id": "72658007",
   "metadata": {},
   "outputs": [],
   "source": [
    "df = df[df['price'] >= 3000]"
   ]
  },
  {
   "cell_type": "code",
   "execution_count": 23,
   "id": "82e94d69",
   "metadata": {},
   "outputs": [
    {
     "name": "stdout",
     "output_type": "stream",
     "text": [
      "<class 'pandas.core.frame.DataFrame'>\n",
      "Index: 695 entries, 0 to 935\n",
      "Data columns (total 22 columns):\n",
      " #   Column               Non-Null Count  Dtype   \n",
      "---  ------               --------------  -----   \n",
      " 0   photo-count          695 non-null    int64   \n",
      " 1   list-view-price      695 non-null    int64   \n",
      " 2   list-view-date       695 non-null    object  \n",
      " 3   left                 695 non-null    object  \n",
      " 4   celly                695 non-null    object  \n",
      " 5   celly 2              695 non-null    object  \n",
      " 6   celly 3              695 non-null    object  \n",
      " 7   celly 4              695 non-null    object  \n",
      " 8   list-view-header     695 non-null    object  \n",
      " 9   list-view-location   695 non-null    object  \n",
      " 10  img-wrp href         281 non-null    object  \n",
      " 11  he-lazy-image src    638 non-null    object  \n",
      " 12  he-lazy-image src 2  251 non-null    object  \n",
      " 13  city                 695 non-null    category\n",
      " 14  district             695 non-null    category\n",
      " 15  neighborhood         695 non-null    category\n",
      " 16  room                 695 non-null    int32   \n",
      " 17  living_room          695 non-null    int32   \n",
      " 18  area                 695 non-null    int32   \n",
      " 19  age                  695 non-null    int32   \n",
      " 20  floor                695 non-null    int32   \n",
      " 21  price                695 non-null    int32   \n",
      "dtypes: category(3), int32(6), int64(2), object(11)\n",
      "memory usage: 106.5+ KB\n",
      "None\n"
     ]
    }
   ],
   "source": [
    "print(df.info())"
   ]
  },
  {
   "cell_type": "code",
   "execution_count": 24,
   "id": "3cf97bed",
   "metadata": {},
   "outputs": [
    {
     "name": "stdout",
     "output_type": "stream",
     "text": [
      "       photo-count  list-view-price        room  living_room        area  \\\n",
      "count   695.000000       695.000000  695.000000        695.0  695.000000   \n",
      "mean     21.601439     17898.069065    2.253237          1.0  105.742446   \n",
      "std      10.000908      7853.020180    0.797538          0.0   35.872631   \n",
      "min       1.000000      3500.000000    1.000000          1.0   25.000000   \n",
      "25%      14.000000     13000.000000    2.000000          1.0   80.000000   \n",
      "50%      20.000000     16000.000000    2.000000          1.0  100.000000   \n",
      "75%      28.000000     20000.000000    3.000000          1.0  130.000000   \n",
      "max      55.000000     50000.000000    4.000000          1.0  220.000000   \n",
      "\n",
      "              age       floor         price  \n",
      "count  695.000000  695.000000    695.000000  \n",
      "mean    15.598561    2.296403  17898.069065  \n",
      "std     12.017818    1.646296   7853.020180  \n",
      "min      0.000000   -2.000000   3500.000000  \n",
      "25%      4.000000    1.000000  13000.000000  \n",
      "50%     15.000000    2.000000  16000.000000  \n",
      "75%     25.000000    3.000000  20000.000000  \n",
      "max     50.000000    6.000000  50000.000000  \n"
     ]
    }
   ],
   "source": [
    "print(df.describe())"
   ]
  },
  {
   "cell_type": "code",
   "execution_count": 25,
   "id": "0a2ec768",
   "metadata": {},
   "outputs": [],
   "source": [
    "df.to_csv('data_cleaned.csv', index=False)"
   ]
  }
 ],
 "metadata": {
  "kernelspec": {
   "display_name": "base",
   "language": "python",
   "name": "python3"
  },
  "language_info": {
   "codemirror_mode": {
    "name": "ipython",
    "version": 3
   },
   "file_extension": ".py",
   "mimetype": "text/x-python",
   "name": "python",
   "nbconvert_exporter": "python",
   "pygments_lexer": "ipython3",
   "version": "3.12.7"
  }
 },
 "nbformat": 4,
 "nbformat_minor": 5
}
